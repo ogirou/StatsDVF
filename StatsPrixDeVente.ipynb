{
 "cells": [
  {
   "cell_type": "markdown",
   "metadata": {},
   "source": [
    "# Statistiques de prix de ventes immobilières en France\n",
    "\n",
    "Ce programme Python dresse un portrait statistique par code postal des prix de ventes immobilières d'une année à partir des données Open Data DVF (https://www.data.gouv.fr/fr/datasets/demandes-de-valeurs-foncieres/)\n",
    "\n",
    "Les données sont disponibles par année et pour toute la France. Il faut enregistrer un des fichiers `*.csv` dans le même répertoire que le Jupyter Notebook ou le fichiers Python. Le code lit d'abors l'ensemble du tableau de données et réalise les statistiques uniquement pour le code postal choisi.\n",
    "\n",
    "URL \"stables\" pour le téléchargement direct :\n",
    "- 2020 https://www.data.gouv.fr/fr/datasets/r/90a98de0-f562-4328-aa16-fe0dd1dca60f\n",
    "- 2019 https://www.data.gouv.fr/fr/datasets/r/3004168d-bec4-44d9-a781-ef16f41856a2\n",
    "- 2018 https://www.data.gouv.fr/fr/datasets/r/1be77ca5-dc1b-4e50-af2b-0240147e0346\n",
    "- 2017 https://www.data.gouv.fr/fr/datasets/r/7161c9f2-3d91-4caf-afa2-cfe535807f04\n",
    "- 2016 https://www.data.gouv.fr/fr/datasets/r/0ab442c5-57d1-4139-92c2-19672336401c"
   ]
  },
  {
   "cell_type": "markdown",
   "metadata": {},
   "source": [
    "En tête et import des libraires nécessaires"
   ]
  },
  {
   "cell_type": "code",
   "execution_count": 1,
   "metadata": {},
   "outputs": [],
   "source": [
    "# -*- coding: utf-8 -*-\n",
    "\"\"\"\n",
    "Olivier Girou 2021\n",
    "\"\"\"\n",
    "\n",
    "import pandas as pd\n",
    "import matplotlib.pyplot as plt"
   ]
  },
  {
   "cell_type": "markdown",
   "metadata": {},
   "source": [
    "Code postal ciblé au format float, ne pas mettre le '0' pour les département '01' à '09'"
   ]
  },
  {
   "cell_type": "code",
   "execution_count": 2,
   "metadata": {},
   "outputs": [],
   "source": [
    "codePostal = 38520 #6230"
   ]
  },
  {
   "cell_type": "markdown",
   "metadata": {},
   "source": [
    "Année ciblée"
   ]
  },
  {
   "cell_type": "code",
   "execution_count": 3,
   "metadata": {},
   "outputs": [],
   "source": [
    "fichier = \"valeursfoncieres-2020.txt\""
   ]
  },
  {
   "cell_type": "markdown",
   "metadata": {},
   "source": [
    "Lecture du fichier et définition des types de données contenues dans les colonnes"
   ]
  },
  {
   "cell_type": "code",
   "execution_count": 4,
   "metadata": {},
   "outputs": [],
   "source": [
    "df=pd.read_csv(fichier, sep=\"|\", dtype={\n",
    "                      \"Code service CH \": float,\n",
    "                      \"Reference document \" : float,\n",
    "                      \"1 Articles CGI\" : float,\n",
    "                      \"2 Articles CGI\" : float,\n",
    "                      \"3 Articles CGI\" : float,\n",
    "                      \"4 Articles CGI\" : float,\n",
    "                      \"5 Articles CGI\" : float, \n",
    "                      \"No disposition\" : int,\n",
    "                      \"Date mutation\" : str, \n",
    "                      \"Nature mutation\" : str,\n",
    "                      \"Valeur fonciere\" : str,\n",
    "                      \"No voie\" : float,\n",
    "                      \"B/T/Q\" : str,\n",
    "                      \"Type de voie\" : str,\n",
    "                      \"Code voie\" : str,\n",
    "                      \"Voie\" : str,\n",
    "                      \"Code postal\" : float,\n",
    "                      \"Commune\" : str,\n",
    "                      \"Code departement\" : str,\n",
    "                      \"Code commune\" : int,\n",
    "                      \"Prefixe de section\" : float,\n",
    "                      \"Section\" : str,\n",
    "                      \"No plan\" : int,\n",
    "                      \"No Volume\" : str,\n",
    "                      \"1er lot\" : str,\n",
    "                      \"Surface Carrez du 1er lot\"  : str,\n",
    "                      \"2eme lot\" : str,\n",
    "                      \"Surface Carrez du 2eme lot\" : str,\n",
    "                      \"3eme lot\" : str,\n",
    "                      \"Surface Carrez du 3eme lot\" : str,\n",
    "                      \"4eme lot\" : float,\n",
    "                      \"Surface Carrez du 4eme lot\" : str,\n",
    "                      \"5eme lot\" : float,\n",
    "                      \"Surface Carrez du 5eme lot\" : str,\n",
    "                      \"Nombre de lots\" : int,\n",
    "                      \"Code type local\" : float,\n",
    "                      \"Type local\" : str,\n",
    "                      \"Identifiant local\" : float,\n",
    "                      \"Surface reelle bati\" : float,\n",
    "                      \"Nombre pieces principales\"  : float,\n",
    "                      \"Nature culture\" : str,\n",
    "                      \"Nature culture speciale\" : str,\n",
    "                      \"Surface terrain\" : float,\n",
    "                      })"
   ]
  },
  {
   "cell_type": "markdown",
   "metadata": {},
   "source": [
    "Transformation de la variable *`\"Valeur fonciere\"`* en `float` (nombre décimal)"
   ]
  },
  {
   "cell_type": "code",
   "execution_count": 5,
   "metadata": {},
   "outputs": [],
   "source": [
    "df[\"Valeur fonciere float\"]=df[\"Valeur fonciere\"].str.replace(\",\",\".\").astype(float)"
   ]
  },
  {
   "cell_type": "markdown",
   "metadata": {},
   "source": [
    "Réduction du tableau de données à la ville d'intérêt"
   ]
  },
  {
   "cell_type": "code",
   "execution_count": 6,
   "metadata": {},
   "outputs": [],
   "source": [
    "dfVille = df[df[\"Code postal\"] == codePostal]"
   ]
  },
  {
   "cell_type": "markdown",
   "metadata": {},
   "source": [
    "\"Tamisage\" des données pour retirer les valeurs incohérentes et recentrer l'analyse sur des types de biens immobliers spécifiques"
   ]
  },
  {
   "cell_type": "code",
   "execution_count": 7,
   "metadata": {},
   "outputs": [],
   "source": [
    "dfVilleCible = dfVille[(dfVille[\"Type local\"] == \"Maison\")]\n",
    "\n",
    "# dfVilleCible = dfVille[(dfVille[\"Type local\"] == \"Appartement\")\n",
    "#                       &(dfVille[\"Surface reelle bati\"] > 20)\n",
    "#                       &(dfVille[\"Surface reelle bati\"] < 60)\n",
    "#                       &(dfVille[\"Valeur fonciere float\"] > 100000)\n",
    "#                       &(dfVille[\"Valeur fonciere float\"] < 1200000)\n",
    "#                       ]"
   ]
  },
  {
   "cell_type": "markdown",
   "metadata": {},
   "source": [
    "Analyse statistique des valeurs foncières"
   ]
  },
  {
   "cell_type": "code",
   "execution_count": 8,
   "metadata": {},
   "outputs": [
    {
     "name": "stdout",
     "output_type": "stream",
     "text": [
      "count        51.000000\n",
      "mean     177316.745098\n",
      "std       95379.557828\n",
      "min        5000.000000\n",
      "25%      101100.000000\n",
      "50%      180000.000000\n",
      "75%      258035.000000\n",
      "max      350000.000000\n",
      "Name: Valeur fonciere float, dtype: float64\n"
     ]
    }
   ],
   "source": [
    "print(dfVilleCible[\"Valeur fonciere float\"].describe())"
   ]
  },
  {
   "cell_type": "markdown",
   "metadata": {},
   "source": [
    "Analyse statistique des surfaces de bâti"
   ]
  },
  {
   "cell_type": "code",
   "execution_count": 9,
   "metadata": {},
   "outputs": [
    {
     "name": "stdout",
     "output_type": "stream",
     "text": [
      "count     51.000000\n",
      "mean      76.372549\n",
      "std       36.786933\n",
      "min       13.000000\n",
      "25%       52.000000\n",
      "50%       72.000000\n",
      "75%       93.000000\n",
      "max      170.000000\n",
      "Name: Surface reelle bati, dtype: float64\n"
     ]
    }
   ],
   "source": [
    "print(dfVilleCible[\"Surface reelle bati\"].describe())"
   ]
  },
  {
   "cell_type": "markdown",
   "metadata": {},
   "source": [
    "Création de la série `\"dfVilleCiblePrixm2\"` et analyse statistique de la série"
   ]
  },
  {
   "cell_type": "code",
   "execution_count": 10,
   "metadata": {},
   "outputs": [
    {
     "name": "stdout",
     "output_type": "stream",
     "text": [
      "count       51.000000\n",
      "mean      2647.747017\n",
      "std       3019.827796\n",
      "min        250.000000\n",
      "25%       1612.903226\n",
      "50%       2150.000000\n",
      "75%       2629.389474\n",
      "max      22692.307692\n",
      "dtype: float64\n"
     ]
    }
   ],
   "source": [
    "dfVilleCiblePrixm2 = dfVilleCible[\"Valeur fonciere float\"] / dfVilleCible[\"Surface reelle bati\"]\n",
    "\n",
    "print(dfVilleCiblePrixm2.describe())"
   ]
  },
  {
   "cell_type": "markdown",
   "metadata": {},
   "source": [
    "Création et affichage des histogrammes de distribution statistiques des prix au m²"
   ]
  },
  {
   "cell_type": "code",
   "execution_count": 11,
   "metadata": {},
   "outputs": [
    {
     "data": {
      "image/png": "[encoded data removed]",
      "text/plain": [
       "<Figure size 432x288 with 1 Axes>"
      ]
     },
     "metadata": {
      "needs_background": "light"
     },
     "output_type": "display_data"
    }
   ],
   "source": [
    "plt.figure()\n",
    "dfVilleCiblePrixm2.plot.hist(bins=100)\n",
    "plt.show()"
   ]
  }
 ],
 "metadata": {
  "kernelspec": {
   "display_name": "Python 3",
   "language": "python",
   "name": "python3"
  },
  "language_info": {
   "codemirror_mode": {
    "name": "ipython",
    "version": 3
   },
   "file_extension": ".py",
   "mimetype": "text/x-python",
   "name": "python",
   "nbconvert_exporter": "python",
   "pygments_lexer": "ipython3",
   "version": "3.8.5"
  }
 },
 "nbformat": 4,
 "nbformat_minor": 4
}
